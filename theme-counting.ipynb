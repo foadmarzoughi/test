{
 "cells": [
  {
   "cell_type": "markdown",
   "metadata": {},
   "source": [
    "# Yabble's AI Test\n",
    "\n",
    "Hello! Given the rise of code generation LLMs traditional coding tests are completely useless these days. So we've come up with something that should be hard for an AI to code without some sort of direction from a human, so this means this test is really about giving you a problem and seeing how you \n",
    "\n",
    "- Solve a problem with LLMs, and\n",
    "- Communicate this solution.\n",
    "\n",
    "We're mainly see want to see a proof-of-concept so doesn't need to be an end-to-end working solution. Just a sketch so we can see your thinking behind your solution.\n",
    "\n",
    "Fork this repo and send us a link when you are done to alex@yabble.com"
   ]
  },
  {
   "cell_type": "markdown",
   "metadata": {},
   "source": [
    "## The Problem\n",
    "\n",
    "As part of this repo we have supplied a dataset `walmart.csv` there are 3 columns of open text responses. The task is to perform, what the market research community call, \"theme counting\" or \"thematic analysis: on one or all of these columns. A brief definition of this task might be:\n",
    "\n",
    "> [Thematic analysis](https://fastercapital.com/content/Thematic-Analysis--Uncovering-Patterns--Thematic-Analysis-in-Qualitative-Research.html) is a qualitative research technique that involves systematically identifying, analyzing, and reporting patterns (themes) within textual, visual, or audio data. It is widely used in marketing research to explore consumer opinions, sentiments, and experiences. Researchers begin by immersing themselves in the data, identifying recurring patterns, and organizing them into meaningful themes.\n",
    "\n",
    "### Example\n",
    "\n",
    "So a basic example would be if you had 3 responses from the dataset column \"What do you think Target does better than Walmart?\":\n",
    "1. \"Their overall approach to customers and the benefits of supporting the community and it's employees\"\n",
    "2. \"Target has a better variety\"\n",
    "3. \"Employees are more helpful and the stores are much cleaner and better organized\"\n",
    "4. \"They have more in style things and the employees are nice\"\n",
    "\n",
    "So you might tags these with \"themes\" as follows:\n",
    "1. Customer support; Supports Community; Supports Employees\n",
    "2. Variety\n",
    "3. Customer support; Clean stores; Well Organised\n",
    "4. Variety; Customer support\n",
    "\n",
    "The idea with themes is to group responses to make further porcess easier. You need to find a balance between having general themes while at the same time capturing enough neuonce for the themes to be useful. \n",
    "\n",
    "Bonus marks for adding sentiment to your themes so the same theme can ether be positive, negative or neutral i.e. Customer Service (positive) or Customer Service (Negative) etc\n",
    "\n",
    "### Please...\n",
    "- Document your code and your thinking. \n",
    "- Doesn't have to be perfect, show the experiments you did to get to where you ended up. \n",
    "- Link to external sources of inspiration.\n",
    "- Write a \"Summary\" at the begining which outlines your approch(es)\n",
    "- Write a \"Conclusion\" section at the end.\n",
    "\n",
    "Good luck!"
   ]
  },
  {
   "cell_type": "markdown",
   "metadata": {},
   "source": [
    "## The data\n",
    "\n",
    "The data is a typical CSV we migth get from a client. Column labels are the survey question text."
   ]
  },
  {
   "cell_type": "code",
   "execution_count": 2,
   "metadata": {},
   "outputs": [
    {
     "data": {
      "text/plain": [
       "[{'Session ID': '94f2d4c3-b513-411c-b505-a11290b3f0f5',\n",
       "  'Date started': '10/02/2022 01:03',\n",
       "  'Imagine you are writing a complaint letter to the head of Walmart...in detail, tell us the things you would complain about and why they matter?': \"The customer service that your company gives is horrible and tacky. Your company has no morality or empathy for it's customers \\nAll you care about is profits over customer.\",\n",
       "  'What do you think Target does better than Walmart?': \"Their overall approach to customers and the benefits of supporting the community and it's employees.\",\n",
       "  'What do you LOVE most about Walmart?': \"There's nothing I LOVE about Walmart.\",\n",
       "  'Gender': 'Male',\n",
       "  'Age group': '45-54',\n",
       "  'State': 'Texas',\n",
       "  'Who does it better? Target or Walmart?': 'Target'},\n",
       " {'Session ID': '1797c6f2-c501-44b7-b549-a33c29224edc',\n",
       "  'Date started': '10/02/2022 01:03',\n",
       "  'Imagine you are writing a complaint letter to the head of Walmart...in detail, tell us the things you would complain about and why they matter?': 'I would complain about how more registers need to be available throughout the day.',\n",
       "  'What do you think Target does better than Walmart?': '',\n",
       "  'What do you LOVE most about Walmart?': 'I love the diversity of products that they offer.',\n",
       "  'Gender': 'Female',\n",
       "  'Age group': '18-24',\n",
       "  'State': 'Texas',\n",
       "  'Who does it better? Target or Walmart?': 'Walmart'},\n",
       " {'Session ID': '20e1a746-8311-450b-ba54-62d15f940a66',\n",
       "  'Date started': '10/02/2022 01:03',\n",
       "  'Imagine you are writing a complaint letter to the head of Walmart...in detail, tell us the things you would complain about and why they matter?': \"Why do you quit taking cash at the 8-checkout and don't blame it on a coin shortage that's no excuse your stores too big for it you act like you're doing it some type of conspiracy got to be shamed of yourself\",\n",
       "  'What do you think Target does better than Walmart?': 'Target still has a snack bar unlike Walmart',\n",
       "  'What do you LOVE most about Walmart?': 'The employees. They try when \\nYou finely hnt one down.',\n",
       "  'Gender': 'Male',\n",
       "  'Age group': '55-64',\n",
       "  'State': 'Texas',\n",
       "  'Who does it better? Target or Walmart?': 'Target'}]"
      ]
     },
     "execution_count": 2,
     "metadata": {},
     "output_type": "execute_result"
    }
   ],
   "source": [
    "import csv\n",
    "\n",
    "with open(\"walmart.csv\") as fp:\n",
    "    reader = csv.DictReader(fp)\n",
    "    data = [row for row in reader]\n",
    "\n",
    "data[:3]"
   ]
  },
  {
   "cell_type": "code",
   "execution_count": 3,
   "metadata": {},
   "outputs": [],
   "source": [
    "# Your code here..."
   ]
  }
 ],
 "metadata": {
  "kernelspec": {
   "display_name": "__venv__",
   "language": "python",
   "name": "python3"
  },
  "language_info": {
   "codemirror_mode": {
    "name": "ipython",
    "version": 3
   },
   "file_extension": ".py",
   "mimetype": "text/x-python",
   "name": "python",
   "nbconvert_exporter": "python",
   "pygments_lexer": "ipython3",
   "version": "3.13.3"
  }
 },
 "nbformat": 4,
 "nbformat_minor": 2
}
